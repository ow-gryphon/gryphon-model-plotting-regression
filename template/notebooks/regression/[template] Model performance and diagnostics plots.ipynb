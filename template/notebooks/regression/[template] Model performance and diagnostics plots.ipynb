{
 "cells": [
  {
   "cell_type": "markdown",
   "id": "8073b2ed",
   "metadata": {},
   "source": [
    "<div class=\"alert alert-danger\" role=\"alert\">\n",
    "    <span style=\"font-size:20px\">&#9888;</span> <span style=\"font-size:16px\">This is a read-only notebook! If you want to make and save changes, save a copy by clicking on <b>File</b> &#8594; <b>Save a copy</b>. If this is already a copy, you can delete this cell.</span>\n",
    "</div>"
   ]
  },
  {
   "cell_type": "markdown",
   "id": "06616dad",
   "metadata": {},
   "source": [
    "<h1>Model performance and diagnostics plots<span class=\"tocSkip\"></span></h1>"
   ]
  },
  {
   "cell_type": "markdown",
   "id": "6b58cb4f",
   "metadata": {},
   "source": [
    "This notebook provides model type agnostic capabilities for visualizing model performance and properties weaknesses such as biases and potential omitted variables or variable transformations.\n",
    "\n",
    "This operates on a dataset containing actuals, predictions, and other variables of interest (e.g. for examining model relationships)"
   ]
  },
  {
   "cell_type": "markdown",
   "id": "fcdafda6",
   "metadata": {},
   "source": [
    "<h2>Table of Contents<span class=\"tocSkip\"></span></h2>\n",
    "<div class=\"toc\"><ul class=\"toc-item\"><li><span><a href=\"#Model-performance-and-diagnostics-plots\" data-toc-modified-id=\"Model-performance-and-diagnostics-plots-1\"><span class=\"toc-item-num\">1&nbsp;&nbsp;</span>Model performance and diagnostics plots</a></span></li><li><span><a href=\"#Import-key-libraries\" data-toc-modified-id=\"Import-key-libraries-2\"><span class=\"toc-item-num\">2&nbsp;&nbsp;</span>Import key libraries</a></span></li><li><span><a href=\"#Load-dataset-that-contains-a-prediction\" data-toc-modified-id=\"Load-dataset-that-contains-a-prediction-3\"><span class=\"toc-item-num\">3&nbsp;&nbsp;</span>Load dataset that contains a prediction</a></span></li><li><span><a href=\"#Model-metrics\" data-toc-modified-id=\"Model-metrics-4\"><span class=\"toc-item-num\">4&nbsp;&nbsp;</span>Model metrics</a></span><ul class=\"toc-item\"><li><span><a href=\"#Root-Mean-Squared-Error\" data-toc-modified-id=\"Root-Mean-Squared-Error-4.1\"><span class=\"toc-item-num\">4.1&nbsp;&nbsp;</span>Root Mean Squared Error</a></span></li><li><span><a href=\"#Mean-Absolute-Error-and-Mean-Absolute-Percentage-Error\" data-toc-modified-id=\"Mean-Absolute-Error-and-Mean-Absolute-Percentage-Error-4.2\"><span class=\"toc-item-num\">4.2&nbsp;&nbsp;</span>Mean Absolute Error and Mean Absolute Percentage Error</a></span></li><li><span><a href=\"#R-squared-and-Explained-Variance\" data-toc-modified-id=\"R-squared-and-Explained-Variance-4.3\"><span class=\"toc-item-num\">4.3&nbsp;&nbsp;</span>R-squared and Explained Variance</a></span></li><li><span><a href=\"#Relative-errors\" data-toc-modified-id=\"Relative-errors-4.4\"><span class=\"toc-item-num\">4.4&nbsp;&nbsp;</span>Relative errors</a></span></li></ul></li><li><span><a href=\"#Model-performance-plots\" data-toc-modified-id=\"Model-performance-plots-5\"><span class=\"toc-item-num\">5&nbsp;&nbsp;</span>Model performance plots</a></span><ul class=\"toc-item\"><li><span><a href=\"#Actual-vs.-Predicted-Scatterplot\" data-toc-modified-id=\"Actual-vs.-Predicted-Scatterplot-5.1\"><span class=\"toc-item-num\">5.1&nbsp;&nbsp;</span>Actual vs. Predicted Scatterplot</a></span></li><li><span><a href=\"#Actual-vs.-Predicted-by-binned-prediction\" data-toc-modified-id=\"Actual-vs.-Predicted-by-binned-prediction-5.2\"><span class=\"toc-item-num\">5.2&nbsp;&nbsp;</span>Actual vs. Predicted by binned prediction</a></span></li><li><span><a href=\"#Actual-and-Predicted-vs.-other-continuous-variables\" data-toc-modified-id=\"Actual-and-Predicted-vs.-other-continuous-variables-5.3\"><span class=\"toc-item-num\">5.3&nbsp;&nbsp;</span>Actual and Predicted vs. other continuous variables</a></span></li><li><span><a href=\"#Actual-and-Predicted-vs.-other-categorical-or-discrete-variables\" data-toc-modified-id=\"Actual-and-Predicted-vs.-other-categorical-or-discrete-variables-5.4\"><span class=\"toc-item-num\">5.4&nbsp;&nbsp;</span>Actual and Predicted vs. other categorical or discrete variables</a></span></li></ul></li><li><span><a href=\"#Model-performance-by-group\" data-toc-modified-id=\"Model-performance-by-group-6\"><span class=\"toc-item-num\">6&nbsp;&nbsp;</span>Model performance by group</a></span></li></ul></div>"
   ]
  },
  {
   "cell_type": "markdown",
   "id": "4db4ca63",
   "metadata": {},
   "source": [
    "# Import key libraries"
   ]
  },
  {
   "cell_type": "code",
   "execution_count": 2,
   "id": "cc828ba1",
   "metadata": {},
   "outputs": [],
   "source": [
    "# Import key libraries\n",
    "import pandas as pd\n",
    "import numpy as np\n",
    "import matplotlib\n",
    "%matplotlib inline\n",
    "import matplotlib.pyplot as plt\n",
    "import seaborn as sns\n",
    "\n",
    "%load_ext autoreload\n",
    "%autoreload 2"
   ]
  },
  {
   "cell_type": "markdown",
   "id": "a05b83c6",
   "metadata": {},
   "source": [
    "**Import code stored in the utilities folder**"
   ]
  },
  {
   "cell_type": "code",
   "execution_count": 3,
   "id": "23a542e9",
   "metadata": {},
   "outputs": [],
   "source": [
    "import sys\n",
    "sys.path.insert(0, \"../../utilities\")\n",
    "from model_plots import diagnostics_continuous"
   ]
  },
  {
   "cell_type": "markdown",
   "id": "4424fc3b",
   "metadata": {},
   "source": [
    "# Load dataset that contains a prediction\n",
    "\n",
    "We load a Pandas dataframe containing the prediction \"PredictedPrice\". Typically, this prediction is created on the spot from a model. For a model example, make sure to download the 'Regression Modeling templates'"
   ]
  },
  {
   "cell_type": "code",
   "execution_count": 4,
   "id": "df64bdee",
   "metadata": {},
   "outputs": [
    {
     "data": {
      "text/html": [
       "<div>\n",
       "<style scoped>\n",
       "    .dataframe tbody tr th:only-of-type {\n",
       "        vertical-align: middle;\n",
       "    }\n",
       "\n",
       "    .dataframe tbody tr th {\n",
       "        vertical-align: top;\n",
       "    }\n",
       "\n",
       "    .dataframe thead th {\n",
       "        text-align: right;\n",
       "    }\n",
       "</style>\n",
       "<table border=\"1\" class=\"dataframe\">\n",
       "  <thead>\n",
       "    <tr style=\"text-align: right;\">\n",
       "      <th></th>\n",
       "      <th>ID</th>\n",
       "      <th>Price</th>\n",
       "      <th>Levy</th>\n",
       "      <th>Manufacturer</th>\n",
       "      <th>Model</th>\n",
       "      <th>Prod. year</th>\n",
       "      <th>Category</th>\n",
       "      <th>Leather interior</th>\n",
       "      <th>Fuel type</th>\n",
       "      <th>Engine volume</th>\n",
       "      <th>Mileage</th>\n",
       "      <th>Cylinders</th>\n",
       "      <th>Gear box type</th>\n",
       "      <th>Drive wheels</th>\n",
       "      <th>Doors</th>\n",
       "      <th>Wheel</th>\n",
       "      <th>Color</th>\n",
       "      <th>Airbags</th>\n",
       "      <th>PredictedPrice</th>\n",
       "    </tr>\n",
       "  </thead>\n",
       "  <tbody>\n",
       "    <tr>\n",
       "      <th>0</th>\n",
       "      <td>45654403</td>\n",
       "      <td>13328</td>\n",
       "      <td>1399.0</td>\n",
       "      <td>LEXUS</td>\n",
       "      <td>RX 450</td>\n",
       "      <td>2010</td>\n",
       "      <td>Jeep</td>\n",
       "      <td>Yes</td>\n",
       "      <td>Hybrid</td>\n",
       "      <td>3.5</td>\n",
       "      <td>186005</td>\n",
       "      <td>6</td>\n",
       "      <td>Automatic</td>\n",
       "      <td>4x4</td>\n",
       "      <td>4/5</td>\n",
       "      <td>Left wheel</td>\n",
       "      <td>Silver</td>\n",
       "      <td>12</td>\n",
       "      <td>8824.699572</td>\n",
       "    </tr>\n",
       "    <tr>\n",
       "      <th>1</th>\n",
       "      <td>44731507</td>\n",
       "      <td>16621</td>\n",
       "      <td>1018.0</td>\n",
       "      <td>CHEVROLET</td>\n",
       "      <td>Equinox</td>\n",
       "      <td>2011</td>\n",
       "      <td>Jeep</td>\n",
       "      <td>No</td>\n",
       "      <td>Petrol</td>\n",
       "      <td>3</td>\n",
       "      <td>192000</td>\n",
       "      <td>6</td>\n",
       "      <td>Tiptronic</td>\n",
       "      <td>4x4</td>\n",
       "      <td>4/5</td>\n",
       "      <td>Left wheel</td>\n",
       "      <td>Black</td>\n",
       "      <td>8</td>\n",
       "      <td>24521.584963</td>\n",
       "    </tr>\n",
       "    <tr>\n",
       "      <th>2</th>\n",
       "      <td>45774419</td>\n",
       "      <td>8467</td>\n",
       "      <td>NaN</td>\n",
       "      <td>HONDA</td>\n",
       "      <td>FIT</td>\n",
       "      <td>2006</td>\n",
       "      <td>Hatchback</td>\n",
       "      <td>No</td>\n",
       "      <td>Petrol</td>\n",
       "      <td>1.3</td>\n",
       "      <td>200000</td>\n",
       "      <td>4</td>\n",
       "      <td>Variator</td>\n",
       "      <td>Front</td>\n",
       "      <td>4/5</td>\n",
       "      <td>Right-hand drive</td>\n",
       "      <td>Black</td>\n",
       "      <td>2</td>\n",
       "      <td>NaN</td>\n",
       "    </tr>\n",
       "    <tr>\n",
       "      <th>3</th>\n",
       "      <td>45769185</td>\n",
       "      <td>3607</td>\n",
       "      <td>862.0</td>\n",
       "      <td>FORD</td>\n",
       "      <td>Escape</td>\n",
       "      <td>2011</td>\n",
       "      <td>Jeep</td>\n",
       "      <td>Yes</td>\n",
       "      <td>Hybrid</td>\n",
       "      <td>2.5</td>\n",
       "      <td>168966</td>\n",
       "      <td>4</td>\n",
       "      <td>Automatic</td>\n",
       "      <td>4x4</td>\n",
       "      <td>4/5</td>\n",
       "      <td>Left wheel</td>\n",
       "      <td>White</td>\n",
       "      <td>0</td>\n",
       "      <td>8995.986780</td>\n",
       "    </tr>\n",
       "    <tr>\n",
       "      <th>4</th>\n",
       "      <td>45809263</td>\n",
       "      <td>11726</td>\n",
       "      <td>446.0</td>\n",
       "      <td>HONDA</td>\n",
       "      <td>FIT</td>\n",
       "      <td>2014</td>\n",
       "      <td>Hatchback</td>\n",
       "      <td>Yes</td>\n",
       "      <td>Petrol</td>\n",
       "      <td>1.3</td>\n",
       "      <td>91901</td>\n",
       "      <td>4</td>\n",
       "      <td>Automatic</td>\n",
       "      <td>Front</td>\n",
       "      <td>4/5</td>\n",
       "      <td>Left wheel</td>\n",
       "      <td>Silver</td>\n",
       "      <td>4</td>\n",
       "      <td>22010.686186</td>\n",
       "    </tr>\n",
       "  </tbody>\n",
       "</table>\n",
       "</div>"
      ],
      "text/plain": [
       "         ID  Price    Levy Manufacturer    Model  Prod. year   Category  \\\n",
       "0  45654403  13328  1399.0        LEXUS   RX 450        2010       Jeep   \n",
       "1  44731507  16621  1018.0    CHEVROLET  Equinox        2011       Jeep   \n",
       "2  45774419   8467     NaN        HONDA      FIT        2006  Hatchback   \n",
       "3  45769185   3607   862.0         FORD   Escape        2011       Jeep   \n",
       "4  45809263  11726   446.0        HONDA      FIT        2014  Hatchback   \n",
       "\n",
       "  Leather interior Fuel type Engine volume  Mileage  Cylinders Gear box type  \\\n",
       "0              Yes    Hybrid           3.5   186005          6     Automatic   \n",
       "1               No    Petrol             3   192000          6     Tiptronic   \n",
       "2               No    Petrol           1.3   200000          4      Variator   \n",
       "3              Yes    Hybrid           2.5   168966          4     Automatic   \n",
       "4              Yes    Petrol           1.3    91901          4     Automatic   \n",
       "\n",
       "  Drive wheels Doors             Wheel   Color  Airbags  PredictedPrice  \n",
       "0          4x4   4/5        Left wheel  Silver       12     8824.699572  \n",
       "1          4x4   4/5        Left wheel   Black        8    24521.584963  \n",
       "2        Front   4/5  Right-hand drive   Black        2             NaN  \n",
       "3          4x4   4/5        Left wheel   White        0     8995.986780  \n",
       "4        Front   4/5        Left wheel  Silver        4    22010.686186  "
      ]
     },
     "execution_count": 4,
     "metadata": {},
     "output_type": "execute_result"
    }
   ],
   "source": [
    "# Read in the data using pandas, with low_memory=False in case the dataset is large\n",
    "dataset = pd.read_csv(\"sample_input/car_price_with_prediction.csv\", low_memory=False)\n",
    "dataset.head()"
   ]
  },
  {
   "cell_type": "markdown",
   "id": "956311e5",
   "metadata": {},
   "source": [
    "**Subset dataset to remove missing actuals and predictions**"
   ]
  },
  {
   "cell_type": "code",
   "execution_count": 5,
   "id": "f6cee853",
   "metadata": {},
   "outputs": [],
   "source": [
    "clean_dataset = dataset.dropna(subset=[\"Price\",\"PredictedPrice\"])"
   ]
  },
  {
   "cell_type": "markdown",
   "id": "cb4503c3",
   "metadata": {},
   "source": [
    "# Model metrics\n",
    "\n",
    "Most of these metrics can be found here: https://scikit-learn.org/stable/modules/model_evaluation.html#regression-metrics\n",
    "\n",
    "For model specific metrics and data type specific (e.g. time-series) metrics, download the templates for regression modeling and see the respective model notebook.\n",
    "\n",
    "The way relative metrics are calculated may need to be adjusted to the data situation, e.g. \n",
    "* Relative errors to a variable that is always positive and far from zero (e.g. deposit levels, transaction volumes)\n",
    "    * %-age errors such as MAPE [Less discerning if errors are small relative to a large base]\n",
    "    * Error / ‘Average absolute change’ or Error / Standard deviation, to compare error to expected moves\n",
    "* Relative errors to variable that is always positive but can be near zero for some data points\n",
    "    * Error / ‘Average variable value’, where average variable value represents ‘typical actual level’\n",
    "    * Error / ‘Average absolute change’ or Error / Standard deviation\n",
    "* Relative errors to variable that can be both positive and negative\n",
    "    * Error / ‘Average absolute variable value over relevant period’\n",
    "    * Error / ‘Average absolute change’ or Error / Standard deviation"
   ]
  },
  {
   "cell_type": "markdown",
   "id": "af4e8930",
   "metadata": {},
   "source": [
    "## Root Mean Squared Error\n",
    "\n",
    "Note: A weighted RMSE can be calculated by specifying a 'weight' argument. See https://scikit-learn.org/stable/modules/generated/sklearn.metrics.mean_squared_error.html"
   ]
  },
  {
   "cell_type": "code",
   "execution_count": 6,
   "id": "82e974a6",
   "metadata": {
    "scrolled": true
   },
   "outputs": [],
   "source": [
    "from sklearn.metrics import mean_squared_error"
   ]
  },
  {
   "cell_type": "code",
   "execution_count": 7,
   "id": "d1b0bce5",
   "metadata": {
    "scrolled": true
   },
   "outputs": [
    {
     "data": {
      "text/plain": [
       "17313.080328440537"
      ]
     },
     "execution_count": 7,
     "metadata": {},
     "output_type": "execute_result"
    }
   ],
   "source": [
    "mean_squared_error(y_true = clean_dataset['Price'], y_pred = clean_dataset['PredictedPrice'], squared=False)"
   ]
  },
  {
   "cell_type": "markdown",
   "id": "812471c0",
   "metadata": {},
   "source": [
    "## Mean Absolute Error and Mean Absolute Percentage Error\n",
    "\n",
    "Note: Weighted errors can be calculated by specifying a 'weight' argument. See:\n",
    "* MAE: https://scikit-learn.org/stable/modules/generated/sklearn.metrics.mean_absolute_error.html#sklearn.metrics.mean_absolute_error\n",
    "* MAPE: https://scikit-learn.org/stable/modules/generated/sklearn.metrics.mean_absolute_percentage_error.html#sklearn.metrics.mean_absolute_percentage_error"
   ]
  },
  {
   "cell_type": "code",
   "execution_count": 8,
   "id": "39b39f04",
   "metadata": {},
   "outputs": [],
   "source": [
    "from sklearn.metrics import mean_absolute_error, mean_absolute_percentage_error"
   ]
  },
  {
   "cell_type": "code",
   "execution_count": 9,
   "id": "465494be",
   "metadata": {},
   "outputs": [
    {
     "data": {
      "text/plain": [
       "10862.34471933647"
      ]
     },
     "execution_count": 9,
     "metadata": {},
     "output_type": "execute_result"
    }
   ],
   "source": [
    "mean_absolute_error(y_true = clean_dataset['Price'], y_pred = clean_dataset['PredictedPrice'])"
   ]
  },
  {
   "cell_type": "code",
   "execution_count": 10,
   "id": "bc0ba6fd",
   "metadata": {},
   "outputs": [
    {
     "data": {
      "text/plain": [
       "9.828395481862321"
      ]
     },
     "execution_count": 10,
     "metadata": {},
     "output_type": "execute_result"
    }
   ],
   "source": [
    "mean_absolute_percentage_error(y_true = clean_dataset['Price'], y_pred = clean_dataset['PredictedPrice'])"
   ]
  },
  {
   "cell_type": "markdown",
   "id": "a164e8c2",
   "metadata": {},
   "source": [
    "## R-squared and Explained Variance\n",
    "\n",
    "When the mean error (i.e. average(actual) = average(predicted)) then these two metrics are identical. See here: https://stackoverflow.com/questions/24378176/python-sci-kit-learn-metrics-difference-between-r2-score-and-explained-varian\n",
    "\n",
    "Note: Weighted errors can be calculated by specifying a 'weight' argument. See:\n",
    "* R2 score: https://scikit-learn.org/stable/modules/generated/sklearn.metrics.r2_score.html#sklearn.metrics.r2_score\n",
    "* Explained Variance: https://scikit-learn.org/stable/modules/generated/sklearn.metrics.explained_variance_score.html#sklearn.metrics.explained_variance_score"
   ]
  },
  {
   "cell_type": "code",
   "execution_count": 11,
   "id": "e5fe8a00",
   "metadata": {},
   "outputs": [],
   "source": [
    "from sklearn.metrics import r2_score, explained_variance_score"
   ]
  },
  {
   "cell_type": "code",
   "execution_count": 12,
   "id": "263d1260",
   "metadata": {},
   "outputs": [
    {
     "data": {
      "text/plain": [
       "0.20110831569861365"
      ]
     },
     "execution_count": 12,
     "metadata": {},
     "output_type": "execute_result"
    }
   ],
   "source": [
    "r2_score(y_true = clean_dataset['Price'], y_pred = clean_dataset['PredictedPrice'])"
   ]
  },
  {
   "cell_type": "code",
   "execution_count": 13,
   "id": "76527a45",
   "metadata": {},
   "outputs": [
    {
     "data": {
      "text/plain": [
       "0.20110835807657246"
      ]
     },
     "execution_count": 13,
     "metadata": {},
     "output_type": "execute_result"
    }
   ],
   "source": [
    "explained_variance_score(y_true = clean_dataset['Price'], y_pred = clean_dataset['PredictedPrice'])"
   ]
  },
  {
   "cell_type": "markdown",
   "id": "7cfcd457",
   "metadata": {},
   "source": [
    "## Relative errors\n",
    "\n",
    "Here we illustrate a few ways to calculate relative errors, in addition to MAPE introduced earlier"
   ]
  },
  {
   "cell_type": "markdown",
   "id": "dafb6884",
   "metadata": {},
   "source": [
    "**Mean absolute error relative to standard deviation**\n",
    "This can be useful for a variable that is either:\n",
    "* Very large and stable, such that MAPE will be very small and difficult to put into context\n",
    "* Is close to zero or changes between being positive or negative"
   ]
  },
  {
   "cell_type": "code",
   "execution_count": 14,
   "id": "e7ed3f03",
   "metadata": {},
   "outputs": [
    {
     "data": {
      "text/plain": [
       "0.560780866522542"
      ]
     },
     "execution_count": 14,
     "metadata": {},
     "output_type": "execute_result"
    }
   ],
   "source": [
    "mean_absolute_error(y_true = clean_dataset['Price'], y_pred = clean_dataset['PredictedPrice']) / np.std(clean_dataset['Price'])"
   ]
  },
  {
   "cell_type": "markdown",
   "id": "266b5738",
   "metadata": {},
   "source": [
    "**Mean absolute error relative to average absolute value**\n",
    "This can be useful for a variable that changes between being positive or negative"
   ]
  },
  {
   "cell_type": "code",
   "execution_count": 15,
   "id": "987b565b",
   "metadata": {},
   "outputs": [
    {
     "data": {
      "text/plain": [
       "0.6279359269953644"
      ]
     },
     "execution_count": 15,
     "metadata": {},
     "output_type": "execute_result"
    }
   ],
   "source": [
    "mean_absolute_error(y_true = clean_dataset['Price'], y_pred = clean_dataset['PredictedPrice']) / np.mean(abs(clean_dataset['Price']))"
   ]
  },
  {
   "cell_type": "markdown",
   "id": "355245bd",
   "metadata": {},
   "source": [
    "# Model performance plots"
   ]
  },
  {
   "cell_type": "markdown",
   "id": "2017a1ab",
   "metadata": {},
   "source": [
    "## Actual vs. Predicted Scatterplot\n",
    "\n",
    "The simplest way is a **scatter plot** to visualize actuals vs. predicted values. However, it can be challenging to gauge the quality of the model fit if there is substantial noise (random unexplainable residuals), but it nevertheless a good starting point.\n",
    "\n",
    "Scatterplots can be slow when too many points are plotted. Therefore, it is recommended to sample data if the dataset is too large, as well as to provide the ranges of the data (in case outliers are sampled out)"
   ]
  },
  {
   "cell_type": "code",
   "execution_count": 16,
   "id": "57dd0c31",
   "metadata": {},
   "outputs": [
    {
     "name": "stdout",
     "output_type": "stream",
     "text": [
      "Sampled 1000 out of 19237 observations\n"
     ]
    },
    {
     "data": {
      "image/png": "[encoded data removed]",
      "text/plain": [
       "<Figure size 432x288 with 1 Axes>"
      ]
     },
     "metadata": {
      "needs_background": "light"
     },
     "output_type": "display_data"
    }
   ],
   "source": [
    "actual = \"Price\"\n",
    "predicted = \"PredictedPrice\"\n",
    "\n",
    "fig, ax = diagnostics_continuous.act_vs_pred_scatter(dataset, actual, predicted, N = 1000, equalize_axes=True)"
   ]
  },
  {
   "cell_type": "markdown",
   "id": "72b284c5",
   "metadata": {},
   "source": [
    "## Actual vs. Predicted by binned prediction\n",
    "\n",
    "This chart buckets the data based on the predicted value (from low to high), and plots a scatterplot of the average actual vs. average predicted in each bucket. This helps make biases in the model more visually clear by smoothing out variation in errors."
   ]
  },
  {
   "cell_type": "code",
   "execution_count": 17,
   "id": "2b44698b",
   "metadata": {},
   "outputs": [
    {
     "data": {
      "image/png": "[encoded data removed]",
      "text/plain": [
       "<Figure size 432x288 with 1 Axes>"
      ]
     },
     "metadata": {
      "needs_background": "light"
     },
     "output_type": "display_data"
    }
   ],
   "source": [
    "fig, axs, plot_data = diagnostics_continuous.act_vs_pred_plot(used_data = dataset, \n",
    "                                                              actual_var = \"Price\", \n",
    "                                                              pred_var = \"PredictedPrice\", \n",
    "                                                              num_buckets=20, \n",
    "                                                              with_count = False, \n",
    "                                                              with_stdev = False, with_CI = False, lower=-np.inf, upper=np.inf, non_nan = True)"
   ]
  },
  {
   "cell_type": "markdown",
   "id": "a340aabe",
   "metadata": {},
   "source": [
    "## Actual and Predicted vs. other continuous variables\n",
    "\n",
    "This chart buckets the data based on the value (from low to high) of any continuous variable, and plots the average actual and average predicted vs. the average value of the continuous variable for each bucket. This identifies biases in the model against the continuous variable to possible identify: \n",
    "* Whether the continuous variable should be added to the model (if it is not already)\n",
    "* Whether a transformation of the variable should be added to the model"
   ]
  },
  {
   "cell_type": "code",
   "execution_count": 23,
   "id": "eccb24ac",
   "metadata": {},
   "outputs": [
    {
     "data": {
      "image/png": "[encoded data removed]",
      "text/plain": [
       "<Figure size 432x288 with 2 Axes>"
      ]
     },
     "metadata": {},
     "output_type": "display_data"
    }
   ],
   "source": [
    "x_variable = \"Mileage\"\n",
    "\n",
    "fig, axs, plot_data = diagnostics_continuous.model_comparison_continuous(used_data = dataset, \n",
    "                                                                         actual_var = \"Price\", \n",
    "                                                                         pred_var = \"PredictedPrice\", \n",
    "                                                                         x_var = x_variable, \n",
    "                                                                         num_buckets=20, \n",
    "                                                                         y_scale=\"linear\", x_scale=\"log\",\n",
    "                                                                         with_count=True, with_stdev = False, with_CI = False,\n",
    "                                                                         lower=-np.inf, upper=np.inf, non_nan = True)"
   ]
  },
  {
   "cell_type": "markdown",
   "id": "369b890f",
   "metadata": {},
   "source": [
    "The red line is the model prediction and the blue points are the actuals. The grey bars indicate the number of observations. In this example, a adjusting the transformation for \"Mileage\" may help capture the consistent overprediction for high mileage, and underprediction for low mileage"
   ]
  },
  {
   "cell_type": "markdown",
   "id": "bff3ed1a",
   "metadata": {},
   "source": [
    "## Actual and Predicted vs. other categorical or discrete variables\n",
    "\n",
    "This chart buckets the data based on each value of any categorical / discrete variable, and plots the average actual and average predicted for each unique value. This can identify potential biases for certain categories (if this variable is not part of the model).\n",
    "\n",
    "Use discrete = True for numerical variables if you want to preserve the distance between values on the x-axis."
   ]
  },
  {
   "cell_type": "code",
   "execution_count": 24,
   "id": "94366fbf",
   "metadata": {},
   "outputs": [
    {
     "data": {
      "image/png": "[encoded data removed]",
      "text/plain": [
       "<Figure size 432x288 with 2 Axes>"
      ]
     },
     "metadata": {},
     "output_type": "display_data"
    }
   ],
   "source": [
    "x_variable = \"Gear box type\"\n",
    "\n",
    "fig, axs, plot_data = diagnostics_continuous.model_comparison_categorical(used_data = dataset, \n",
    "                                                                         actual_var = \"Price\", \n",
    "                                                                         pred_var = \"PredictedPrice\", \n",
    "                                                                         x_var = x_variable, \n",
    "                                                                         discrete=False,\n",
    "                                                                         y_scale=\"linear\", \n",
    "                                                                         with_count=True, with_stdev = False, with_CI = False,\n",
    "                                                                         lower=-np.inf, upper=np.inf, non_nan = True)"
   ]
  },
  {
   "cell_type": "code",
   "execution_count": 25,
   "id": "68538ebc",
   "metadata": {},
   "outputs": [
    {
     "data": {
      "image/png": "[encoded data removed]",
      "text/plain": [
       "<Figure size 432x288 with 2 Axes>"
      ]
     },
     "metadata": {},
     "output_type": "display_data"
    }
   ],
   "source": [
    "x_variable = \"Cylinders\"\n",
    "\n",
    "fig, axs, plot_data = diagnostics_continuous.model_comparison_categorical(used_data = dataset, \n",
    "                                                                         actual_var = \"Price\", \n",
    "                                                                         pred_var = \"PredictedPrice\", \n",
    "                                                                         x_var = x_variable, \n",
    "                                                                         discrete=True,\n",
    "                                                                         y_scale=\"linear\", \n",
    "                                                                         with_count=True, with_stdev = False, with_CI = False,\n",
    "                                                                         lower=-np.inf, upper=np.inf, non_nan = True)"
   ]
  },
  {
   "cell_type": "markdown",
   "id": "dad94b86",
   "metadata": {},
   "source": [
    "# Model performance by group\n",
    "\n",
    "To identify potential differences in model performance by subpopulation, the plots in the prior section can be compared across subpopulations. If there are major differences by subpopulation, interaction terms may be warranted. "
   ]
  },
  {
   "cell_type": "code",
   "execution_count": null,
   "id": "b672fad2",
   "metadata": {},
   "outputs": [],
   "source": [
    "TBD"
   ]
  }
 ],
 "metadata": {
  "kernelspec": {
   "display_name": "Python 3 (ipykernel)",
   "language": "python",
   "name": "python3"
  },
  "language_info": {
   "codemirror_mode": {
    "name": "ipython",
    "version": 3
   },
   "file_extension": ".py",
   "mimetype": "text/x-python",
   "name": "python",
   "nbconvert_exporter": "python",
   "pygments_lexer": "ipython3",
   "version": "3.9.5"
  },
  "toc": {
   "base_numbering": 1,
   "nav_menu": {},
   "number_sections": true,
   "sideBar": true,
   "skip_h1_title": false,
   "title_cell": "Table of Contents",
   "title_sidebar": "Contents",
   "toc_cell": false,
   "toc_position": {},
   "toc_section_display": true,
   "toc_window_display": true
  }
 },
 "nbformat": 4,
 "nbformat_minor": 5
}
